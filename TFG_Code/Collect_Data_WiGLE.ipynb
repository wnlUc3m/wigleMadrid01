{
 "cells": [
  {
   "cell_type": "code",
   "execution_count": 1,
   "metadata": {
    "scrolled": false
   },
   "outputs": [],
   "source": [
    "from pygle import network\n",
    "import pandas as pd\n",
    "import numpy as np\n",
    "#La url donde está el archivo de configuración de pygle es C:\\Users\\Guille\\Anaconda3\\envs\\py27\\lib\\site-packages\\pygle\\config.pyc"
   ]
  },
  {
   "cell_type": "code",
   "execution_count": 6,
   "metadata": {},
   "outputs": [],
   "source": [
    "# Copyright (c) 2017 Jamie Bull - oCo Carbon Ltd\n",
    "# =======================================================================\n",
    "#  Distributed under the MIT License.\n",
    "# =======================================================================\n",
    "\"\"\"\n",
    "Sniff local WiFi networks in order to look them up on WiGLE.\n",
    "\n",
    "\"\"\"\n",
    "from __future__ import absolute_import\n",
    "from __future__ import division\n",
    "from __future__ import print_function\n",
    "from __future__ import unicode_literals\n",
    "\n",
    "from platform import system\n",
    "import re\n",
    "import subprocess\n",
    "import time\n",
    "\n",
    "import requests\n",
    "\n",
    "from pygle import network\n",
    "\n",
    "\n",
    "scan_cmd = {'windows': 'netsh wlan show networks mode=Bssid', \n",
    "            'linux': 'nmcli -t -f bssid dev wifi list',  # untested\n",
    "            'osx': '/System/Library/PrivateFrameworks/Apple80211.framework/Versions/Current/Resources/airport -s',  # untested\n",
    "            }\n",
    "extremo_norte =  40.2149;   \n",
    "extremo_sur = 40.2193;\n",
    "extremo_este = -3.8634;    \n",
    "extremo_oeste = -3.8484;\n",
    "regexp = re.compile('MOVISTAR');\n",
    "def local_bssids():\n",
    "    \"\"\"Get a list of available wireless access points.\n",
    "    \"\"\"\n",
    "    res = subprocess.check_output(\"nmcli -t -f bssid dev wifi list\",\n",
    "                                  shell=True)\n",
    "   \n",
    "    res= res.replace(\"\\\\\" , \"\")\n",
    "    \n",
    "    pattern = re.compile(r'(?:[0-9a-fA-F]:?){12}')\n",
    "    bssids = pattern.findall(res)\n",
    "   \n",
    "    return set(bssids)\n",
    "\n",
    "\n",
    "def geolocate():\n",
    "    \"\"\"Locate a device using locally available wireless access points.\n",
    "    \"\"\"\n",
    "    lats = []\n",
    "    longs = []\n",
    "    for bssid in local_bssids():\n",
    "        print(\"BSSID:\", bssid)\n",
    "        lat, lng = geolocate_wigle(bssid)  # can be replaced with other geocoding sources\n",
    "        if lat and lng:\n",
    "            lats.append(lat)\n",
    "            longs.append(lng)\n",
    "        time.sleep(0.1)\n",
    "    if lats and longs:\n",
    "        lat = sum(lats) / len(lats)\n",
    "        lng = sum(longs) / len(longs)\n",
    "        return lat, lng\n",
    "    else:\n",
    "        return \"No geolocation possible\"\n",
    "\n",
    "\n",
    "def geolocate_wigle(bssid):\n",
    "    \"\"\"Search WiGLE for a BSSID and return lat/lng.\n",
    "    \"\"\"\n",
    "    res = network.search(netid=bssid)\n",
    "    if res['success'] and res['resultCount']:\n",
    "        lat = res['results'][0]['trilat']\n",
    "        lng = res['results'][0]['trilong']\n",
    "    else:\n",
    "        print(res)\n",
    "        lat, lng = None, None\n",
    "    return lat, lng\n",
    "\n",
    "def network_data_parser(long_min, lat_min, long_max, lat_max):\n",
    "    \"\"\"Búsqueda dentro de WiGLE de redes dentro de una localización y devuelve toda la info de la BBDD\n",
    "    \"\"\"\n",
    "    lats = []\n",
    "    longs = []\n",
    "    ssids = []\n",
    "    netpoint = []\n",
    "    network_map = []\n",
    "    res = network.search(latrange1=lat_min, latrange2=lat_max, longrange1=long_min, longrange2=long_max, ssidlike='WLAN%')\n",
    "    print(res['totalResults']);\n",
    "    if res['success'] and res['resultCount']:\n",
    "        for net in res['results']:\n",
    "            comment = net['comment']\n",
    "            qos = net['qos']\n",
    "            transid = net['transid']\n",
    "            city = net['city']\n",
    "            ssid = net['ssid']\n",
    "            encryption = net['encryption']\n",
    "            wep = net['wep']\n",
    "            bcninterval = net['bcninterval']\n",
    "            dhcp = net['dhcp']\n",
    "            typ = net['type']\n",
    "            channel = net['channel']\n",
    "            lng = net['trilong']\n",
    "            paynet = net['paynet']\n",
    "            userfound = net['userfound']\n",
    "            housenumber = net['housenumber']\n",
    "            lasttime = net['lasttime']\n",
    "            firsttime = net['firsttime']\n",
    "            name = net['name']\n",
    "            lastupdt = net['lastupdt']\n",
    "            country = net['country']\n",
    "            region = net['region']\n",
    "            netid = net['netid']\n",
    "            freenet = net['freenet']\n",
    "            lat = net['trilat']\n",
    "            road = net['road']\n",
    "            \n",
    "            netpoint= [comment, qos, transid, city, ssid, encryption, wep, bcninterval, dhcp, typ, channel, lng, \n",
    "                       paynet, userfound, housenumber, lasttime, firsttime, name, lastupdt, country, region, \n",
    "                       netid, freenet, lat, road]\n",
    "            network_map.append(netpoint)\n",
    "        \n",
    "           \n",
    "        return res['totalResults']\n",
    "    else:\n",
    "        print(res)\n",
    "        lat, lng = None, None\n",
    "        return lat, lng\n",
    "#if __name__ == \"__main__\":\n",
    "    #print(\"WiGLE\")\n",
    "    "
   ]
  },
  {
   "cell_type": "code",
   "execution_count": 7,
   "metadata": {},
   "outputs": [
    {
     "name": "stdout",
     "output_type": "stream",
     "text": [
      "11696\n",
      "17523\n"
     ]
    }
   ],
   "source": [
    "sumatorio_aprox_total_chamberi =network_data_parser(-3.7199481, 40.4248479, -3.6884365, 40.447132);\n",
    "sumatorio_aprox_total_chamartin =network_data_parser(-3.6917412, 40.4373224, -3.6604484, 40.48406);"
   ]
  },
  {
   "cell_type": "code",
   "execution_count": 7,
   "metadata": {
    "scrolled": true
   },
   "outputs": [
    {
     "name": "stdout",
     "output_type": "stream",
     "text": [
      "0\n",
      "{u'search_after': None, u'last': 0, u'success': True, u'results': [], u'resultCount': 0, u'totalResults': 0, u'first': 1}\n",
      "4\n",
      "0\n",
      "{u'search_after': None, u'last': 0, u'success': True, u'results': [], u'resultCount': 0, u'totalResults': 0, u'first': 1}\n",
      "16\n",
      "3\n",
      "5\n",
      "5\n",
      "2\n",
      "3\n",
      "0\n",
      "{u'search_after': None, u'last': 0, u'success': True, u'results': [], u'resultCount': 0, u'totalResults': 0, u'first': 1}\n",
      "9\n",
      "0\n",
      "{u'search_after': None, u'last': 0, u'success': True, u'results': [], u'resultCount': 0, u'totalResults': 0, u'first': 1}\n",
      "0\n",
      "{u'search_after': None, u'last': 0, u'success': True, u'results': [], u'resultCount': 0, u'totalResults': 0, u'first': 1}\n",
      "0\n",
      "{u'search_after': None, u'last': 0, u'success': True, u'results': [], u'resultCount': 0, u'totalResults': 0, u'first': 1}\n",
      "2\n",
      "3\n",
      "0\n",
      "{u'search_after': None, u'last': 0, u'success': True, u'results': [], u'resultCount': 0, u'totalResults': 0, u'first': 1}\n",
      "0\n",
      "{u'search_after': None, u'last': 0, u'success': True, u'results': [], u'resultCount': 0, u'totalResults': 0, u'first': 1}\n",
      "0\n",
      "{u'search_after': None, u'last': 0, u'success': True, u'results': [], u'resultCount': 0, u'totalResults': 0, u'first': 1}\n",
      "0\n",
      "{u'search_after': None, u'last': 0, u'success': True, u'results': [], u'resultCount': 0, u'totalResults': 0, u'first': 1}\n",
      "0\n",
      "{u'search_after': None, u'last': 0, u'success': True, u'results': [], u'resultCount': 0, u'totalResults': 0, u'first': 1}\n"
     ]
    }
   ],
   "source": [
    "\"\"\"(-3.7229418, 40.3821877, -3.6732365, 40.4140254) 'arganzuela.geojson' Hecho\n",
    "(-3.6279521, 40.4464811, -3.5250873, 40.5132684) 'barajas.geojson' Hecho\n",
    "(-3.7713925, 40.3572614, -3.7046325, 40.4055319) 'carabanchel.geojson' Hecho\n",
    "(-3.7229123, 40.405002, -3.6904647, 40.4306263) 'centro.geojson' Hecho\n",
    "(-3.6917412, 40.4373224, -3.6604484, 40.48406) 'chamartin.geojson' Hecho\n",
    "(-3.7199481, 40.4248479, -3.6884365, 40.447132) 'chamberi.geojson' Hecho\n",
    "(-3.6743987, 40.4130616, -3.6203687, 40.4841782) 'ciudad-linea.geojson' Hecho\n",
    "(-3.8889539, 40.4684881, -3.6019947, 40.6437293) 'fuencarral-el-pardo.geojson' Hecho\n",
    "(-3.6734578, 40.4485438, -3.6028416, 40.5131585) 'hortaleza.geojson' Hecho\n",
    "(-3.8351908, 40.3587453, -3.7217887, 40.4172845) 'latina.geojson' Hecho\n",
    "(-3.8383521, 40.3992355, -3.7082704, 40.4797786) 'moncloa-aravaca.geojson' Hecho\n",
    "(-3.6653928, 40.3925625, -3.6203687, 40.4186705) 'moratalaz.geojson' Hecho\n",
    "(-3.6895732, 40.360849, -3.6217467, 40.4063258) 'puente-de-vallecas.geojson' Hecho\n",
    "(-3.6941294, 40.3945135, -3.6587726, 40.4217289) 'retiro.geojson' Hecho\n",
    "(-3.6930297, 40.4186705, -3.65879, 40.4445817) 'salamanca.geojson' Hecho\n",
    "(-3.648042, 40.4076791, -3.5349879, 40.4502028) 'san-blas.geojson' Hecho\n",
    "(-3.7133277, 40.4462118, -3.6868496, 40.4753456) 'tetuan.geojson' Hecho\n",
    "(-3.7211547, 40.3614412, -3.6817179, 40.3950807) 'usera.geojson' Hecho\n",
    "(-3.6297953, 40.3557577, -3.5179163, 40.4204795) 'vicalvaro.geojson' Hecho\n",
    "(-3.6819717, 40.3121885, -3.5534844, 40.3908047) 'villa-de-vallecas.geojson' Hecho\n",
    "(-3.7251721, 40.3207453, -3.657359, 40.3654057) 'villaverde.geojson' Hecho\n",
    "\n",
    "\n",
    "\n",
    ", ssidlike='MOVISTAR%'\n",
    "sumatorio=0;\n",
    "for bounds in centro:\n",
    "    prueba =network_data_parser(bounds[2], bounds[4], bounds[1], bounds[3]);\n",
    "    if type(prueba) == int:\n",
    "        sumatorio = prueba + sumatorio;\"\"\"\n",
    "\n",
    "sumatorio_aprox_wlan_arganzuela =network_data_parser(-3.7229418, 40.3821877, -3.6732365, 40.4140254);\n",
    "sumatorio_aprox_wlan_barajas =network_data_parser(-3.6279521, 40.4464811, -3.5250873, 40.5132684);\n",
    "sumatorio_aprox_wlan_carabanchel =network_data_parser(-3.7713925, 40.3572614, -3.7046325, 40.4055319);\n",
    "sumatorio_aprox_wlan_centro =network_data_parser(-3.7229123, 40.405002, -3.6904647, 40.4306263);\n",
    "sumatorio_aprox_wlan_chamartin =network_data_parser(-3.6917412, 40.4373224, -3.6604484, 40.48406);\n",
    "sumatorio_aprox_wlan_chamberi =network_data_parser(-3.7199481, 40.4248479, -3.6884365, 40.447132);\n",
    "sumatorio_aprox_wlan_ciudad_lineal =network_data_parser(-3.6743987, 40.4130616, -3.6203687, 40.4841782);\n",
    "sumatorio_aprox_wlan_fuencarral =network_data_parser(-3.8889539, 40.4684881, -3.6019947, 40.6437293);\n",
    "sumatorio_aprox_wlan_hortaleza =network_data_parser(-3.6734578, 40.4485438, -3.6028416, 40.5131585);\n",
    "sumatorio_aprox_wlan_latina =network_data_parser(-3.8351908, 40.3587453, -3.7217887, 40.4172845);\n",
    "sumatorio_aprox_wlan_moncloa =network_data_parser(-3.8383521, 40.3992355, -3.7082704, 40.4797786);\n",
    "sumatorio_aprox_wlan_moratalaz =network_data_parser(-3.6653928, 40.3925625, -3.6203687, 40.4186705);\n",
    "sumatorio_aprox_wlan_puente_de_vallecas =network_data_parser(-3.6895732, 40.360849, -3.6217467, 40.4063258);\n",
    "sumatorio_aprox_wlan_retiro =network_data_parser(-3.6941294, 40.3945135, -3.6587726, 40.4217289);\n",
    "sumatorio_aprox_wlan_salamanca =network_data_parser(-3.6930297, 40.4186705, -3.65879, 40.4445817);\n",
    "sumatorio_aprox_wlan_san_blas =network_data_parser(-3.648042, 40.4076791, -3.5349879, 40.4502028);\n",
    "sumatorio_aprox_wlan_tetuan =network_data_parser(-3.7133277, 40.4462118, -3.6868496, 40.4753456);\n",
    "sumatorio_aprox_wlan_usera =network_data_parser(-3.7211547, 40.3614412, -3.6817179, 40.3950807);\n",
    "sumatorio_aprox_wlan_vicalvaro =network_data_parser(-3.6297953, 40.3557577, -3.5179163, 40.4204795);\n",
    "sumatorio_aprox_wlan_villa_de_vallecas =network_data_parser(-3.6819717, 40.3121885, -3.5534844, 40.3908047);\n",
    "sumatorio_aprox_wlan_villaverde =network_data_parser(-3.7251721, 40.3207453, -3.657359, 40.3654057);\n"
   ]
  },
  {
   "cell_type": "code",
   "execution_count": 12,
   "metadata": {
    "collapsed": true
   },
   "outputs": [],
   "source": [
    "sumatorio_aprox_orange_arganzuela = 6757;\n",
    "sumatorio_aprox_orange_barajas = 775;\n",
    "sumatorio_aprox_orange_carabanchel =2456\n",
    "sumatorio_aprox_orange_centro =9012\n",
    "sumatorio_aprox_orange_chamartin =5589\n",
    "sumatorio_aprox_orange_chamberi =3963\n",
    "sumatorio_aprox_orange_ciudad_lineal =9060\n",
    "sumatorio_aprox_orange_fuencarral =3904\n",
    "sumatorio_aprox_orange_hortaleza =1814\n",
    "sumatorio_aprox_orange_latina =2674\n",
    "sumatorio_aprox_orange_moncloa =5576\n",
    "sumatorio_aprox_orange_moratalaz =705\n",
    "sumatorio_aprox_orange_puente_de_vallecas =2425\n",
    "sumatorio_aprox_orange_retiro =3128\n",
    "sumatorio_aprox_orange_salamanca =7416\n",
    "sumatorio_aprox_orange_san_blas =2498\n",
    "sumatorio_aprox_orange_tetuan =2646\n",
    "sumatorio_aprox_orange_usera =2441\n",
    "sumatorio_aprox_orange_vicalvaro =1419\n",
    "sumatorio_aprox_orange_villa_de_vallecas =795\n",
    "sumatorio_aprox_orange_villaverde =1963"
   ]
  },
  {
   "cell_type": "code",
   "execution_count": 8,
   "metadata": {
    "collapsed": true
   },
   "outputs": [],
   "source": [
    "sumatorio_aprox_vodafone_arganzuela = 6758;\n",
    "sumatorio_aprox_vodafone_barajas = 943;\n",
    "sumatorio_aprox_vodafone_carabanchel =1826\n",
    "sumatorio_aprox_vodafone_centro =9222\n",
    "sumatorio_aprox_vodafone_chamartin =6726\n",
    "sumatorio_aprox_vodafone_chamberi =4609\n",
    "sumatorio_aprox_vodafone_ciudad_lineal =10178\n",
    "sumatorio_aprox_vodafone_fuencarral =3637\n",
    "sumatorio_aprox_vodafone_hortaleza =2109\n",
    "sumatorio_aprox_vodafone_latina =1897\n",
    "sumatorio_aprox_vodafone_moncloa =5620\n",
    "sumatorio_aprox_vodafone_moratalaz =439\n",
    "sumatorio_aprox_vodafone_puente_de_vallecas =2356\n",
    "sumatorio_aprox_vodafone_retiro =3068\n",
    "sumatorio_aprox_vodafone_salamanca =9026\n",
    "sumatorio_aprox_vodafone_san_blas =2422\n",
    "sumatorio_aprox_vodafone_tetuan =2211\n",
    "sumatorio_aprox_vodafone_usera =1713\n",
    "sumatorio_aprox_vodafone_vicalvaro =1233\n",
    "sumatorio_aprox_vodafone_villa_de_vallecas =930\n",
    "sumatorio_aprox_vodafone_villaverde =1150"
   ]
  },
  {
   "cell_type": "code",
   "execution_count": null,
   "metadata": {
    "collapsed": true
   },
   "outputs": [],
   "source": []
  },
  {
   "cell_type": "code",
   "execution_count": 79,
   "metadata": {
    "scrolled": true
   },
   "outputs": [
    {
     "name": "stdout",
     "output_type": "stream",
     "text": [
      "16711\n"
     ]
    }
   ],
   "source": [
    "sumatorio_aprox_villaverde =network_data_parser(-3.7251721, 40.3207453, -3.657359, 40.3654057);"
   ]
  },
  {
   "cell_type": "code",
   "execution_count": 81,
   "metadata": {
    "collapsed": true
   },
   "outputs": [],
   "source": [
    "sumatorio_aprox_movistar_arganzuela = 9496;\n",
    "sumatorio_aprox_arganzuela = 78175;\n",
    "sumatorio_aprox_movistar_barajas = 2273;\n",
    "sumatorio_aprox_barajas = 31771;"
   ]
  },
  {
   "cell_type": "code",
   "execution_count": 8,
   "metadata": {},
   "outputs": [
    {
     "data": {
      "text/plain": [
       "5074"
      ]
     },
     "execution_count": 8,
     "metadata": {},
     "output_type": "execute_result"
    }
   ],
   "source": [
    "sumatorio_movistar_arganzuela#5074\n",
    "sumatorio_total_arganzuela#41110\n",
    "sumatorio_total_carabanchel#14096\n",
    "sumatorio_movistar_carabanchel#577\n",
    "sumatorio_movistar_centro#16133\n",
    "sumatorio_total_centro#132066"
   ]
  },
  {
   "cell_type": "code",
   "execution_count": 1,
   "metadata": {
    "collapsed": true
   },
   "outputs": [],
   "source": [
    "sumatorio_aprox_movistar_arganzuela = 9496\n",
    "sumatorio_aprox_arganzuela = 78175\n",
    "sumatorio_aprox_movistar_barajas = 2273\n",
    "sumatorio_aprox_barajas=31771\n",
    "sumatorio_aprox_movistar_carabanchel=1751\n",
    "sumatorio_aprox_carabanchel=25548\n",
    "sumatorio_aprox_movistar_centro=17698\n",
    "sumatorio_aprox_centro=141484\n",
    "sumatorio_aprox_movistar_chamartin=16716\n",
    "sumatorio_aprox_chamartin=92249\n",
    "sumatorio_aprox_movistar_chamberi=16716\n",
    "sumatorio_aprox_chamberi=92249\n",
    "sumatorio_aprox_movistar_ciudad_lineal=21109\n",
    "sumatorio_aprox_ciudad_lineal=119216\n",
    "sumatorio_aprox_movistar_fuencarral=6119\n",
    "sumatorio_aprox_fuencarral=65182\n",
    "sumatorio_aprox_movistar_hortaleza=5139\n",
    "sumatorio_aprox_hortaleza=37212\n",
    "sumatorio_aprox_movistar_latina=2277\n",
    "sumatorio_aprox_latina=27743\n",
    "sumatorio_aprox_movistar_moncloa=13296\n",
    "sumatorio_aprox_moncloa=88411\n",
    "sumatorio_aprox_movistar_moratalaz=584\n",
    "sumatorio_aprox_moratalaz=6847\n",
    "sumatorio_aprox_movistar_puente_de_vallecas=3009\n",
    "sumatorio_aprox_puente_de_vallecas=27738\n",
    "sumatorio_aprox_movistar_retiro=5959\n",
    "sumatorio_aprox_retiro=49485\n",
    "sumatorio_aprox_movistar_salamanca=23260\n",
    "sumatorio_aprox_salamanca=136075\n",
    "sumatorio_aprox_movistar_san_blas=3979\n",
    "sumatorio_aprox_san_blas=39037\n",
    "sumatorio_aprox_movistar_tetuan=3728\n",
    "sumatorio_aprox_tetuan=42517\n",
    "sumatorio_aprox_movistar_usera=2670\n",
    "sumatorio_aprox_usera=21509\n",
    "sumatorio_aprox_movistar_vicalvaro=1432\n",
    "sumatorio_aprox_vicalvaro=16741\n",
    "sumatorio_aprox_movistar_villa_de_vallecas=690\n",
    "sumatorio_aprox_villa_de_vallecas=11446\n",
    "sumatorio_aprox_movistar_villaverde=1931\n",
    "sumatorio_aprox_villaverde=16711\n",
    "\n",
    "\n",
    "\n"
   ]
  }
 ],
 "metadata": {
  "kernelspec": {
   "display_name": "Python 2",
   "language": "python",
   "name": "python2"
  },
  "language_info": {
   "codemirror_mode": {
    "name": "ipython",
    "version": 2
   },
   "file_extension": ".py",
   "mimetype": "text/x-python",
   "name": "python",
   "nbconvert_exporter": "python",
   "pygments_lexer": "ipython2",
   "version": "2.7.14"
  }
 },
 "nbformat": 4,
 "nbformat_minor": 2
}
